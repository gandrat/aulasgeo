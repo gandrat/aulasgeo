{
  "nbformat": 4,
  "nbformat_minor": 0,
  "metadata": {
    "colab": {
      "name": "escala_python",
      "provenance": [],
      "collapsed_sections": [],
      "toc_visible": true,
      "authorship_tag": "ABX9TyPuJMU+GYwum4mGvp5UeFcK",
      "include_colab_link": true
    },
    "kernelspec": {
      "name": "python3",
      "display_name": "Python 3"
    },
    "language_info": {
      "name": "python"
    }
  },
  "cells": [
    {
      "cell_type": "markdown",
      "metadata": {
        "id": "view-in-github",
        "colab_type": "text"
      },
      "source": [
        "<a href=\"https://colab.research.google.com/github/gandrat/aulasgeo/blob/main/notas_de_aula.ipynb\" target=\"_parent\"><img src=\"https://colab.research.google.com/assets/colab-badge.svg\" alt=\"Open In Colab\"/></a>"
      ]
    },
    {
      "cell_type": "markdown",
      "source": [
        "#Cartografia"
      ],
      "metadata": {
        "id": "VOZlYGbASfDe"
      }
    },
    {
      "cell_type": "markdown",
      "source": [
        "##Escalas"
      ],
      "metadata": {
        "id": "0cP6hS6yG31o"
      }
    },
    {
      "cell_type": "markdown",
      "source": [
        "###Você sabe a distância no mundo real (D) e a distância no mapa (d), e quer descobrir a Escala (E) do mapa:\n",
        "\n",
        "Aperte o play nos pedaços de código (chunks) abaixo.\n",
        "Você deverá responder perguntas, que serão os inputs (entradas) do script: \n",
        "- Distância no mundo real (D)\n",
        "- Distância no mapa (d)\n",
        "- Unidades de medida\n"
      ],
      "metadata": {
        "id": "iRiQxMn54Squ"
      }
    },
    {
      "cell_type": "code",
      "source": [
        "#@title\n",
        "# Criando as variáveis por meio do inpu do usuário\n",
        "d1=float(input('Qual é a distância no mundo real (D)?  '))\n",
        "d1_unid=input('Qual é a unidade de medida no mundo real?  ')\n",
        "d2=float(input('Qual é a distância no mapa (d)?  '))\n",
        "d2_unid=input('Qual é a unidade de medida no mapa?  ')\n",
        "\n",
        "\n",
        "\n",
        "# Minha primeira função em python\n",
        "# def é como criamos uma função em python. Minha função se chamará convertendo\n",
        "\n",
        "# Convertendo as distâncias (D e d) para metros\n",
        "def convertendo(dist,unid):\n",
        "  if(unid == 'km'):\n",
        "    return(dist*1000)\n",
        "  elif(unid == 'hec'):\n",
        "    return(dist*100)\n",
        "  elif(unid == 'dam'):\n",
        "    return(dist*10)\n",
        "  elif(unid == 'm'):\n",
        "    return(dist)\n",
        "  elif(unid == 'dm'):\n",
        "    return(dist/10)\n",
        "  elif(unid == 'cm'):\n",
        "    return(dist/100)\n",
        "  elif(unid == 'mm'):\n",
        "    return(dist/1000)\n",
        "  else:\n",
        "    print('Erro! você deve usar uma das seguintes unidades de medida: km, hec, dam, m, dm, cm, mm.')\n",
        "\n",
        "#Aplicando a transformação de medidas às medidas\n",
        "d1c=float(convertendo(d1, d1_unid))\n",
        "d2c=float(convertendo(d2,d2_unid))\n",
        "\n",
        "#calculando escala. Perceba que a equação está invertida (D/d), pois estou buscando o número da escala (denominador)\n",
        "E=d1c/d2c\n",
        "\n",
        "#Lembrar que o separador de milhar é vírgula, o separador decimal é ponto (em inglês)\n",
        "print('')\n",
        "print('Resultado:')\n",
        "print('Se sua medida no mundo real (D) é de {} {} e no mapa (d) é de {} {}, a escala do seu mapa é de 1:{:,.2f}'.format(d1, d1_unid, d2, d2_unid,E))"
      ],
      "metadata": {
        "id": "tznUwQoUZTNa",
        "cellView": "form"
      },
      "execution_count": null,
      "outputs": []
    },
    {
      "cell_type": "markdown",
      "source": [
        "##Você sabe a distância no mundo real (D) e a escala (E), e quer descobrir a distância no mapa (d):"
      ],
      "metadata": {
        "id": "LC7PYObG4laR"
      }
    },
    {
      "cell_type": "code",
      "source": [
        "#@title\n"
      ],
      "metadata": {
        "id": "SzA0YL_M8u7v",
        "cellView": "form"
      },
      "execution_count": null,
      "outputs": []
    },
    {
      "cell_type": "markdown",
      "source": [
        "##Você sabe a distância no mapa (d) e a escala (E), e quer descobrir a distância no mundo real (D):"
      ],
      "metadata": {
        "id": "QiGF6ZU59J_h"
      }
    }
  ]
}